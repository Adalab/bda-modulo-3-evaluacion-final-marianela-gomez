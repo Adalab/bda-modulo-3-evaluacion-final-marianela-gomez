{
 "cells": [
  {
   "cell_type": "markdown",
   "metadata": {},
   "source": [
    "# 🔬 Analysis \n",
    "### Dataset: Loyalty program (`loyalty_program.csv`) \n",
    "**Objective:** Identifying trends and patterns."
   ]
  }
 ],
 "metadata": {
  "language_info": {
   "name": "python"
  }
 },
 "nbformat": 4,
 "nbformat_minor": 2
}
